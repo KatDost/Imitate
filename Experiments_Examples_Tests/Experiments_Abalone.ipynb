{
 "cells": [
  {
   "cell_type": "markdown",
   "metadata": {},
   "source": [
    "# Abalone Dataset"
   ]
  },
  {
   "cell_type": "code",
   "execution_count": 1,
   "metadata": {},
   "outputs": [],
   "source": [
    "# Import packages\n",
    "from Bias import BIASme, bias_rotate_2D\n",
    "from Transformations import remove_outliers_lof, trafo_ica\n",
    "from DensityEstimators import DE_histogram, DE_kde\n",
    "from IMITATE import IMITATE\n",
    "from scipy import stats\n",
    "from sklearn import svm\n",
    "import pandas as pd\n",
    "import numpy as np\n",
    "import copy\n",
    "import warnings\n",
    "warnings.filterwarnings('ignore')"
   ]
  },
  {
   "cell_type": "code",
   "execution_count": 2,
   "metadata": {},
   "outputs": [],
   "source": [
    "# class label = sex\n",
    "def loadData_abalone(dataset_size=4177):\n",
    "    url = 'https://archive.ics.uci.edu/ml/machine-learning-databases/abalone/abalone.data'\n",
    "    dataset = pd.read_csv(url, header=None)\n",
    "    y = dataset[0].to_numpy()\n",
    "    isInB = np.array([dataset.to_numpy()[i,6]<0.144 for i in range(len(dataset))])\n",
    "    isInB = isInB.reshape(len(isInB), 1)\n",
    "    X = dataset.drop([0,6], axis=1).to_numpy()\n",
    "    X = np.append(X, isInB, axis=1)\n",
    "    \n",
    "    return X, y"
   ]
  },
  {
   "cell_type": "code",
   "execution_count": 19,
   "metadata": {},
   "outputs": [
    {
     "data": {
      "text/plain": [
       "[Text(167.4, 163.07999999999998, 'X[5] <= 0.144\\ngini = 0.665\\nsamples = 4177\\nvalue = [1307, 1342, 1528]'),\n",
       " Text(83.7, 54.360000000000014, 'gini = 0.532\\nsamples = 1730\\nvalue = [265, 1092, 373]'),\n",
       " Text(251.10000000000002, 54.360000000000014, 'gini = 0.585\\nsamples = 2447\\nvalue = [1042, 250, 1155]')]"
      ]
     },
     "execution_count": 19,
     "metadata": {},
     "output_type": "execute_result"
    },
    {
     "data": {
      "image/png": "[encoded data removed]",
      "text/plain": [
       "<Figure size 432x288 with 1 Axes>"
      ]
     },
     "metadata": {},
     "output_type": "display_data"
    }
   ],
   "source": [
    "# quick check for the most predictive attribute:\n",
    "from sklearn import tree\n",
    "X, y = loadData_abalone()\n",
    "clf = tree.DecisionTreeClassifier(max_depth=1)\n",
    "clf = clf.fit(X[:,0:len(X[0])-1],y)\n",
    "tree.plot_tree(clf) "
   ]
  },
  {
   "cell_type": "code",
   "execution_count": 3,
   "metadata": {},
   "outputs": [],
   "source": [
    "# remove all mushrooms with rings <= 8\n",
    "def bias_abalone(data, labels):\n",
    "    isInB = data[:,-1]\n",
    "    X = data[isInB==1]\n",
    "    X = X[:, 0:(len(data[0])-1)]\n",
    "    y = labels[isInB==1]\n",
    "    return X, y"
   ]
  },
  {
   "cell_type": "code",
   "execution_count": 9,
   "metadata": {},
   "outputs": [],
   "source": [
    "def run_experiment(num_bins, model, repeat=10):\n",
    "    DE = lambda b: DE_kde(num_bins=b, kernel='gau')\n",
    "    data_gen = loadData_abalone\n",
    "    bias_gen = bias_abalone\n",
    "    bh = IMITATE([10], bias_gen, data_gen, repeat=1, model=model, DE=DE, trafo=trafo_ica)\n",
    "    \n",
    "    # run 10 times, pick the result with the highest confidence\n",
    "    max_conf = 0\n",
    "    for bins in num_bins:\n",
    "        for i in range(repeat):\n",
    "            bh.reset()\n",
    "            label_conf = bh.fill_up(num_bins=bins, iterations=10, fill_up_plots=False, point_plots=False, RO=True)\n",
    "            #print(\"run\", i, \", conf\", label_conf)\n",
    "            if max(label_conf) >= max_conf:\n",
    "                max_conf = max(label_conf)\n",
    "                best_bh = copy.deepcopy(bh)\n",
    "    return best_bh"
   ]
  },
  {
   "cell_type": "code",
   "execution_count": 12,
   "metadata": {},
   "outputs": [],
   "source": [
    "def run_and_eval(runs=10, model=svm.SVC(kernel='linear')):\n",
    "    acc_init = np.zeros(runs)\n",
    "    acc_final = np.zeros(runs)\n",
    "    hist_bins = list(range(10,25,1))\n",
    "    \n",
    "    for r in range(runs):\n",
    "        bh = run_experiment(hist_bins, model=model, repeat=2)\n",
    "        acc_init[r] = bh.D.acc_unbiased - bh.D.acc_init\n",
    "        acc_final[r] = bh.D.acc_unbiased - bh.D.accuracyBiased(bh.added_points, bh.added_labels)\n",
    "        print(\"run\", r, \"- acc_i =\", acc_init[r], \" acc_f =\", acc_final[r])\n",
    "\n",
    "    return acc_init, acc_final"
   ]
  },
  {
   "cell_type": "markdown",
   "metadata": {},
   "source": [
    "### Linear SVM"
   ]
  },
  {
   "cell_type": "code",
   "execution_count": 6,
   "metadata": {},
   "outputs": [
    {
     "name": "stdout",
     "output_type": "stream",
     "text": [
      "run 0 - acc_i = 0.1403508771929825  acc_f = 0.12599681020733655\n",
      "run 1 - acc_i = 0.18022328548644334  acc_f = 0.0933014354066985\n",
      "run 2 - acc_i = 0.14513556618819778  acc_f = 0.08054226475279108\n",
      "run 3 - acc_i = 0.16826156299840517  acc_f = 0.032695374800638\n",
      "run 4 - acc_i = 0.16427432216905896  acc_f = 0.09888357256778302\n",
      "run 5 - acc_i = 0.13955342902711326  acc_f = 0.11084529505582141\n",
      "run 6 - acc_i = 0.182615629984051  acc_f = 0.08771929824561403\n",
      "run 7 - acc_i = 0.1251993620414673  acc_f = 0.08532695374800642\n",
      "run 8 - acc_i = 0.1435406698564593  acc_f = 0.09170653907496013\n",
      "run 9 - acc_i = 0.11961722488038284  acc_f = 0.0797448165869219\n"
     ]
    }
   ],
   "source": [
    "res = run_and_eval()"
   ]
  },
  {
   "cell_type": "code",
   "execution_count": 7,
   "metadata": {},
   "outputs": [
    {
     "data": {
      "text/plain": [
       "array([0.15087719, 0.08867624])"
      ]
     },
     "execution_count": 7,
     "metadata": {},
     "output_type": "execute_result"
    }
   ],
   "source": [
    "np.average(res, axis=1)"
   ]
  },
  {
   "cell_type": "code",
   "execution_count": 8,
   "metadata": {},
   "outputs": [
    {
     "data": {
      "text/plain": [
       "Ttest_indResult(statistic=6.015205536381381, pvalue=1.0924579997398722e-05)"
      ]
     },
     "execution_count": 8,
     "metadata": {},
     "output_type": "execute_result"
    }
   ],
   "source": [
    "stats.ttest_ind(res[0], res[1])"
   ]
  },
  {
   "cell_type": "markdown",
   "metadata": {},
   "source": [
    "### Decision Tree"
   ]
  },
  {
   "cell_type": "code",
   "execution_count": 15,
   "metadata": {},
   "outputs": [
    {
     "name": "stdout",
     "output_type": "stream",
     "text": [
      "run 0 - acc_i = 0.1475279106858054  acc_f = 0.09090909090909088\n",
      "run 1 - acc_i = 0.15071770334928225  acc_f = 0.12360446570972883\n",
      "run 2 - acc_i = 0.1355661881977671  acc_f = 0.11164274322169054\n",
      "run 3 - acc_i = 0.2121212121212121  acc_f = 0.13476874003189793\n",
      "run 4 - acc_i = 0.14513556618819773  acc_f = 0.11642743221690588\n",
      "run 5 - acc_i = 0.15151515151515144  acc_f = 0.0071770334928229484\n",
      "run 6 - acc_i = 0.11562998405103675  acc_f = 0.09011164274322175\n",
      "run 7 - acc_i = 0.16507177033492826  acc_f = 0.1403508771929825\n",
      "run 8 - acc_i = 0.14752791068580545  acc_f = 0.08373205741626799\n",
      "run 9 - acc_i = 0.16586921850079744  acc_f = 0.12679425837320574\n"
     ]
    }
   ],
   "source": [
    "model = tree.DecisionTreeClassifier\n",
    "res_tree = run_and_eval(model=model)"
   ]
  },
  {
   "cell_type": "code",
   "execution_count": 16,
   "metadata": {},
   "outputs": [
    {
     "data": {
      "text/plain": [
       "array([0.15366826, 0.10255183])"
      ]
     },
     "execution_count": 16,
     "metadata": {},
     "output_type": "execute_result"
    }
   ],
   "source": [
    "np.average(res_tree, axis=1)"
   ]
  },
  {
   "cell_type": "code",
   "execution_count": 21,
   "metadata": {},
   "outputs": [
    {
     "data": {
      "text/plain": [
       "Ttest_indResult(statistic=3.504686286647387, pvalue=0.0025302605021944773)"
      ]
     },
     "execution_count": 21,
     "metadata": {},
     "output_type": "execute_result"
    }
   ],
   "source": [
    "stats.ttest_ind(res_tree[0], res_tree[1])"
   ]
  },
  {
   "cell_type": "markdown",
   "metadata": {},
   "source": [
    "### SVM with RBF kernel"
   ]
  },
  {
   "cell_type": "code",
   "execution_count": 18,
   "metadata": {},
   "outputs": [
    {
     "name": "stdout",
     "output_type": "stream",
     "text": [
      "run 0 - acc_i = 0.13237639553429031  acc_f = 0.08532695374800642\n",
      "run 1 - acc_i = 0.12759170653907492  acc_f = 0.05582137161084527\n",
      "run 2 - acc_i = 0.13636363636363635  acc_f = 0.07496012759170656\n",
      "run 3 - acc_i = 0.12280701754385964  acc_f = 0.10047846889952156\n",
      "run 4 - acc_i = 0.15629984051036688  acc_f = 0.10526315789473689\n",
      "run 5 - acc_i = 0.1770334928229665  acc_f = 0.1515151515151515\n",
      "run 6 - acc_i = 0.15629984051036683  acc_f = 0.14752791068580545\n",
      "run 7 - acc_i = 0.17384370015948963  acc_f = 0.07017543859649122\n",
      "run 8 - acc_i = 0.14832535885167464  acc_f = 0.09489633173843698\n",
      "run 9 - acc_i = 0.18022328548644334  acc_f = 0.18341307814992025\n"
     ]
    }
   ],
   "source": [
    "model = svm.SVC(kernel='rbf')\n",
    "res_rbf = run_and_eval(model=model)"
   ]
  },
  {
   "cell_type": "code",
   "execution_count": 19,
   "metadata": {},
   "outputs": [
    {
     "data": {
      "text/plain": [
       "array([0.15111643, 0.1069378 ])"
      ]
     },
     "execution_count": 19,
     "metadata": {},
     "output_type": "execute_result"
    }
   ],
   "source": [
    "np.average(res_rbf, axis=1)"
   ]
  },
  {
   "cell_type": "code",
   "execution_count": 20,
   "metadata": {},
   "outputs": [
    {
     "data": {
      "text/plain": [
       "Ttest_indResult(statistic=3.028865363039521, pvalue=0.0072174160700024985)"
      ]
     },
     "execution_count": 20,
     "metadata": {},
     "output_type": "execute_result"
    }
   ],
   "source": [
    "stats.ttest_ind(res_rbf[0], res_rbf[1])"
   ]
  },
  {
   "cell_type": "code",
   "execution_count": null,
   "metadata": {},
   "outputs": [],
   "source": []
  }
 ],
 "metadata": {
  "kernelspec": {
   "display_name": "Python 3",
   "language": "python",
   "name": "python3"
  },
  "language_info": {
   "codemirror_mode": {
    "name": "ipython",
    "version": 3
   },
   "file_extension": ".py",
   "mimetype": "text/x-python",
   "name": "python",
   "nbconvert_exporter": "python",
   "pygments_lexer": "ipython3",
   "version": "3.6.7"
  }
 },
 "nbformat": 4,
 "nbformat_minor": 2
}

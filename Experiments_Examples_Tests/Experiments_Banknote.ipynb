{
 "cells": [
  {
   "cell_type": "markdown",
   "metadata": {},
   "source": [
    "# Banknote Dataset"
   ]
  },
  {
   "cell_type": "code",
   "execution_count": 7,
   "metadata": {},
   "outputs": [],
   "source": [
    "# Import packages\n",
    "from Bias import BIASme, bias_rotate_2D\n",
    "from Transformations import remove_outliers_lof, trafo_ica\n",
    "from DensityEstimators import DE_histogram, DE_kde\n",
    "from IMITATE import IMITATE\n",
    "from sklearn import svm\n",
    "from scipy import stats\n",
    "import pandas as pd\n",
    "import numpy as np\n",
    "import copy\n",
    "import warnings\n",
    "warnings.filterwarnings('ignore')"
   ]
  },
  {
   "cell_type": "code",
   "execution_count": 2,
   "metadata": {},
   "outputs": [],
   "source": [
    "# class label = sex\n",
    "def loadData_banknote_complete(dataset_size=1372):\n",
    "    url = 'https://archive.ics.uci.edu/ml/machine-learning-databases/00267/data_banknote_authentication.txt'\n",
    "    dataset = pd.read_csv(url, header=None)\n",
    "    y = dataset[4].to_numpy()\n",
    "    isInB = np.array([dataset.to_numpy()[i,0]>0.32 for i in range(len(dataset))])\n",
    "    isInB = isInB.reshape(len(isInB), 1)\n",
    "    X = dataset.drop([4], axis=1).to_numpy()\n",
    "    X = np.append(X, isInB, axis=1)\n",
    "    \n",
    "    return X, y"
   ]
  },
  {
   "cell_type": "code",
   "execution_count": 18,
   "metadata": {},
   "outputs": [
    {
     "data": {
      "text/plain": [
       "[Text(167.4, 163.07999999999998, 'X[0] <= 0.32\\ngini = 0.494\\nsamples = 1372\\nvalue = [762, 610]'),\n",
       " Text(83.7, 54.360000000000014, 'gini = 0.306\\nsamples = 657\\nvalue = [124, 533]'),\n",
       " Text(251.10000000000002, 54.360000000000014, 'gini = 0.192\\nsamples = 715\\nvalue = [638, 77]')]"
      ]
     },
     "execution_count": 18,
     "metadata": {},
     "output_type": "execute_result"
    },
    {
     "data": {
      "image/png": "[encoded data removed]",
      "text/plain": [
       "<Figure size 432x288 with 1 Axes>"
      ]
     },
     "metadata": {},
     "output_type": "display_data"
    }
   ],
   "source": [
    "# quick check for the most predictive attribute:\n",
    "from sklearn import tree\n",
    "X, y = loadData_banknote_complete()\n",
    "clf = tree.DecisionTreeClassifier(max_depth=1)\n",
    "clf = clf.fit(X[:,0:len(X[0])-1],y)\n",
    "tree.plot_tree(clf)"
   ]
  },
  {
   "cell_type": "code",
   "execution_count": 3,
   "metadata": {},
   "outputs": [],
   "source": [
    "# remove all mushrooms with rings <= 8\n",
    "def bias_banknote(data, labels):\n",
    "    isInB = data[:,-1]\n",
    "    X = data[isInB==1]\n",
    "    X = X[:, 0:(len(data[0])-1)]\n",
    "    y = labels[isInB==1]\n",
    "    return X, y"
   ]
  },
  {
   "cell_type": "markdown",
   "metadata": {},
   "source": [
    "## COMPLETE case: we use one attribute for the bias but still keep it as an attribute"
   ]
  },
  {
   "cell_type": "code",
   "execution_count": 12,
   "metadata": {},
   "outputs": [],
   "source": [
    "def run_and_eval(model, runs=10):\n",
    "    acc_init = np.zeros(runs)\n",
    "    acc_final = np.zeros(runs)\n",
    "    hist_bins = list(range(10,30,3))\n",
    "    \n",
    "    for r in range(runs):\n",
    "        bh = run_experiment(hist_bins, model=model, repeat=2)\n",
    "        acc_init[r] = bh.D.acc_unbiased - bh.D.acc_init\n",
    "        acc_final[r] = bh.D.acc_unbiased - bh.D.accuracyBiased(bh.added_points, bh.added_labels)\n",
    "        print(\"run\", r, \"- acc_i =\", acc_init[r], \" acc_f =\", acc_final[r])\n",
    "\n",
    "    return acc_init, acc_final"
   ]
  },
  {
   "cell_type": "code",
   "execution_count": 13,
   "metadata": {},
   "outputs": [],
   "source": [
    "def run_experiment(num_bins, model, repeat=10):\n",
    "    DE = DE_histogram\n",
    "    data_gen = loadData_banknote_complete\n",
    "    bias_gen = bias_banknote\n",
    "    bh = IMITATE([10], bias_gen, data_gen, repeat=1, DE=DE, trafo=trafo_ica, model=model)\n",
    "    \n",
    "    # run 10 times, pick the result with the highest confidence\n",
    "    max_conf = 0\n",
    "    for bins in num_bins:\n",
    "        for i in range(repeat):\n",
    "            bh.reset()\n",
    "            label_conf = bh.fill_up(num_bins=bins, iterations=10, fill_up_plots=False, point_plots=False, RO=True)\n",
    "            #print(\"run\", i, \", conf\", label_conf)\n",
    "            if max(label_conf) >= max_conf:\n",
    "                max_conf = max(label_conf)\n",
    "                best_bh = copy.deepcopy(bh)\n",
    "    return best_bh"
   ]
  },
  {
   "cell_type": "markdown",
   "metadata": {},
   "source": [
    "### Linear SVM"
   ]
  },
  {
   "cell_type": "code",
   "execution_count": 45,
   "metadata": {
    "scrolled": true
   },
   "outputs": [
    {
     "name": "stdout",
     "output_type": "stream",
     "text": [
      "run 0 - acc_i = 0.21116504854368934  acc_f = 0.15291262135922334\n",
      "run 1 - acc_i = 0.21116504854368934  acc_f = 0.21359223300970875\n",
      "run 2 - acc_i = 0.22330097087378642  acc_f = 0.17961165048543692\n",
      "run 3 - acc_i = 0.22815533980582525  acc_f = 0.18446601941747576\n",
      "run 4 - acc_i = 0.20145631067961167  acc_f = 0.20145631067961167\n",
      "run 5 - acc_i = 0.25485436893203883  acc_f = 0.22815533980582525\n",
      "run 6 - acc_i = 0.20873786407766992  acc_f = 0.16504854368932043\n",
      "run 7 - acc_i = 0.2184466019417476  acc_f = 0.1601941747572816\n",
      "run 8 - acc_i = 0.2184466019417476  acc_f = 0.14077669902912626\n",
      "run 9 - acc_i = 0.20145631067961167  acc_f = 0.1310679611650486\n"
     ]
    }
   ],
   "source": [
    "model = svm.SVC(kernel='linear')\n",
    "res = run_and_eval()"
   ]
  },
  {
   "cell_type": "code",
   "execution_count": 49,
   "metadata": {},
   "outputs": [
    {
     "data": {
      "text/plain": [
       "array([0.21771845, 0.17572816])"
      ]
     },
     "execution_count": 49,
     "metadata": {},
     "output_type": "execute_result"
    }
   ],
   "source": [
    "np.average(res, axis=1)"
   ]
  },
  {
   "cell_type": "code",
   "execution_count": 54,
   "metadata": {},
   "outputs": [
    {
     "data": {
      "text/plain": [
       "Ttest_indResult(statistic=3.756827685331084, pvalue=0.0014438122439624362)"
      ]
     },
     "execution_count": 54,
     "metadata": {},
     "output_type": "execute_result"
    }
   ],
   "source": [
    "stats.ttest_ind(res[0], res[1])"
   ]
  },
  {
   "cell_type": "markdown",
   "metadata": {},
   "source": [
    "### Decision Tree"
   ]
  },
  {
   "cell_type": "code",
   "execution_count": 25,
   "metadata": {},
   "outputs": [
    {
     "name": "stdout",
     "output_type": "stream",
     "text": [
      "run 0 - acc_i = 0.21116504854368934  acc_f = 0.21116504854368934\n",
      "run 1 - acc_i = 0.1893203883495146  acc_f = 0.1480582524271845\n",
      "run 2 - acc_i = 0.2038834951456311  acc_f = 0.16504854368932043\n",
      "run 3 - acc_i = 0.21116504854368934  acc_f = 0.16504854368932043\n",
      "run 4 - acc_i = 0.2038834951456311  acc_f = 0.19660194174757284\n",
      "run 5 - acc_i = 0.19660194174757284  acc_f = 0.1165048543689321\n",
      "run 6 - acc_i = 0.18203883495145634  acc_f = 0.133495145631068\n",
      "run 7 - acc_i = 0.19660194174757284  acc_f = 0.1601941747572816\n",
      "run 8 - acc_i = 0.17961165048543692  acc_f = 0.16990291262135926\n",
      "run 9 - acc_i = 0.1893203883495146  acc_f = 0.11165048543689327\n"
     ]
    }
   ],
   "source": [
    "model = tree.DecisionTreeClassifier\n",
    "res_tree = run_and_eval(model=model)"
   ]
  },
  {
   "cell_type": "code",
   "execution_count": 26,
   "metadata": {},
   "outputs": [
    {
     "data": {
      "text/plain": [
       "array([0.19635922, 0.15776699])"
      ]
     },
     "execution_count": 26,
     "metadata": {},
     "output_type": "execute_result"
    }
   ],
   "source": [
    "np.average(res_tree, axis=1)"
   ]
  },
  {
   "cell_type": "code",
   "execution_count": 27,
   "metadata": {},
   "outputs": [
    {
     "data": {
      "text/plain": [
       "Ttest_indResult(statistic=3.6131179897237504, pvalue=0.001988317562475203)"
      ]
     },
     "execution_count": 27,
     "metadata": {},
     "output_type": "execute_result"
    }
   ],
   "source": [
    "stats.ttest_ind(res_tree[0], res_tree[1])"
   ]
  },
  {
   "cell_type": "markdown",
   "metadata": {},
   "source": [
    "### SVM with RBF kernel"
   ]
  },
  {
   "cell_type": "code",
   "execution_count": 22,
   "metadata": {},
   "outputs": [
    {
     "name": "stdout",
     "output_type": "stream",
     "text": [
      "run 0 - acc_i = 0.2184466019417476  acc_f = 0.2184466019417476\n",
      "run 1 - acc_i = 0.17961165048543692  acc_f = 0.162621359223301\n",
      "run 2 - acc_i = 0.1747572815533981  acc_f = 0.1747572815533981\n",
      "run 3 - acc_i = 0.2354368932038835  acc_f = 0.162621359223301\n",
      "run 4 - acc_i = 0.18689320388349517  acc_f = 0.09951456310679607\n",
      "run 5 - acc_i = 0.2063106796116505  acc_f = 0.2063106796116505\n",
      "run 6 - acc_i = 0.191747572815534  acc_f = 0.191747572815534\n",
      "run 7 - acc_i = 0.19417475728155342  acc_f = 0.12378640776699035\n",
      "run 8 - acc_i = 0.2354368932038835  acc_f = 0.12621359223300976\n",
      "run 9 - acc_i = 0.23058252427184467  acc_f = 0.15776699029126218\n"
     ]
    }
   ],
   "source": [
    "model = svm.SVC(kernel='rbf')\n",
    "res_rbf = run_and_eval(model=model)"
   ]
  },
  {
   "cell_type": "code",
   "execution_count": 23,
   "metadata": {},
   "outputs": [
    {
     "data": {
      "text/plain": [
       "array([0.20533981, 0.16237864])"
      ]
     },
     "execution_count": 23,
     "metadata": {},
     "output_type": "execute_result"
    }
   ],
   "source": [
    "np.average(res_rbf, axis=1)"
   ]
  },
  {
   "cell_type": "code",
   "execution_count": 24,
   "metadata": {},
   "outputs": [
    {
     "data": {
      "text/plain": [
       "Ttest_indResult(statistic=3.060989067666796, pvalue=0.006729148969695345)"
      ]
     },
     "execution_count": 24,
     "metadata": {},
     "output_type": "execute_result"
    }
   ],
   "source": [
    "stats.ttest_ind(res_rbf[0], res_rbf[1])"
   ]
  },
  {
   "cell_type": "code",
   "execution_count": null,
   "metadata": {},
   "outputs": [],
   "source": []
  }
 ],
 "metadata": {
  "kernelspec": {
   "display_name": "Python 3",
   "language": "python",
   "name": "python3"
  },
  "language_info": {
   "codemirror_mode": {
    "name": "ipython",
    "version": 3
   },
   "file_extension": ".py",
   "mimetype": "text/x-python",
   "name": "python",
   "nbconvert_exporter": "python",
   "pygments_lexer": "ipython3",
   "version": "3.6.7"
  }
 },
 "nbformat": 4,
 "nbformat_minor": 2
}
